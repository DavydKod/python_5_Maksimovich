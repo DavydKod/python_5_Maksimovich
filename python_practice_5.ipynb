{
  "cells": [
    {
      "attachments": {},
      "cell_type": "markdown",
      "metadata": {
        "id": "5qV_sehzFCTp"
      },
      "source": [
        "# I. OOP"
      ]
    },
    {
      "attachments": {},
      "cell_type": "markdown",
      "metadata": {
        "id": "tx_U_hOALyfg"
      },
      "source": [
        "1. (6б). Створіть клас Animal, додайте три атрибути, один з яких має значення за замовчуванням та два методи на свій розсуд."
      ]
    },
    {
      "cell_type": "code",
      "execution_count": 3,
      "metadata": {
        "id": "-Vf895KaL88N"
      },
      "outputs": [],
      "source": [
        "class Animal:\n",
        "    def __init__(self, name, species, weight=0):\n",
        "        self.name = name\n",
        "        self.species = species\n",
        "        self.weight = weight\n",
        "    \n",
        "    def print(self):\n",
        "        print(f\"This animal is {self.species} with weight {self.weight} and it has name {self.name}\")\n",
        "\n",
        "    def setWeight(self, weight):\n",
        "        self.weight = weight"
      ]
    },
    {
      "attachments": {},
      "cell_type": "markdown",
      "metadata": {
        "id": "X_UlOMB0L93w"
      },
      "source": [
        "2. (2б). Створіть два обʼєкти цього класу, де один з обʼєктів створюється із дефолтним значенням атрибуту. На одному обʼєкті отримайте значення його атрибуту, а на іншому викличте один з його методів."
      ]
    },
    {
      "cell_type": "code",
      "execution_count": 4,
      "metadata": {
        "id": "7gBu0ESOMCpG"
      },
      "outputs": [
        {
          "name": "stdout",
          "output_type": "stream",
          "text": [
            "150\n",
            "This animal is Dog with weight 15 and it has name Mops\n"
          ]
        }
      ],
      "source": [
        "animal1 = Animal(\"Levion\", \"Lion\", 150)\n",
        "animal2 = Animal(\"Mops\", \"Dog\", 15)\n",
        "\n",
        "print(animal1.weight)\n",
        "animal2.print()"
      ]
    },
    {
      "attachments": {},
      "cell_type": "markdown",
      "metadata": {
        "id": "HoqSCZt1MHn5"
      },
      "source": [
        "3. (5б). Створіть клас, де атрибути мають різні рівні доступу. Спробуйте отримати їхні значення та опишіть результати."
      ]
    },
    {
      "cell_type": "code",
      "execution_count": 12,
      "metadata": {
        "id": "r9b3vJxBMSPV"
      },
      "outputs": [
        {
          "name": "stdout",
          "output_type": "stream",
          "text": [
            "concrete\n",
            "29\n"
          ]
        }
      ],
      "source": [
        "class power_tower:#опора ЛЕП\n",
        "    def __init__(self, ref, height, voltage=35000, type=\"Triangle\", material=\"concrete\", circuits=1, cables=3):\n",
        "        self._ref = ref\n",
        "        self.__height = height\n",
        "        self._type = type\n",
        "        self.__material = material\n",
        "        self._voltage = voltage\n",
        "        self._circuits = circuits\n",
        "        self._cables = cables\n",
        "\n",
        "    def get_height(self):\n",
        "        return self.__height\n",
        "        \n",
        "    def get_material(self):\n",
        "        return self.__material\n",
        "        \n",
        "    def set_height(self, height):\n",
        "        self.__height = height\n",
        "        \n",
        "    def set_material(self, material):\n",
        "        self.__material = material\n",
        "\n",
        "\n",
        "\n",
        "tower = power_tower(ref=132, height=30, voltage=330000, type=\"Monopolar\")\n",
        "print(tower.get_material())\n",
        "tower.set_height(29)\n",
        "print(tower.get_height())\n",
        "#до public атрибутів(_) є доступ ззовні класу, а до\n",
        "#private(__) тільки ззовні(тому для доступу до них потрібно\n",
        "#використовувати сетери і гетери)"
      ]
    },
    {
      "attachments": {},
      "cell_type": "markdown",
      "metadata": {
        "id": "5op2m2vgMSkZ"
      },
      "source": [
        "4. (7б). Як ви розумієте термін self? Для чого використовується метод __init __?"
      ]
    },
    {
      "attachments": {},
      "cell_type": "markdown",
      "metadata": {
        "id": "DyiPqNRvMasx"
      },
      "source": [
        "self вказує на цей об'єкт(як this у Java/C++). Через нього вказуємо, що методи класу не є статичними, а всередині методу доступаємось до атрибутів цього об'єкту(з якого викликаємо цей метод). __init__ - аналог конструктора, потрібен для початкової ініціалізації об'єкта, при його створенні"
      ]
    },
    {
      "attachments": {},
      "cell_type": "markdown",
      "metadata": {
        "id": "-6X8EGfjMd2y"
      },
      "source": [
        "5. (9б). Створіть клас Фігура без атрибутів, з методом get_area для отримання площі фігури, що повертає 0 та __add __, який приймає self та other в якості аргументів, а повертає суму площин фігур self та other."
      ]
    },
    {
      "cell_type": "code",
      "execution_count": 1,
      "metadata": {
        "id": "4rvO_wYUMaEr"
      },
      "outputs": [],
      "source": [
        "class Figure:\n",
        "    def get_area(self):\n",
        "        return 0\n",
        "    def __add__(self, other):\n",
        "        return self.get_area() + other.get_area()"
      ]
    },
    {
      "attachments": {},
      "cell_type": "markdown",
      "metadata": {
        "id": "SFcKnnv5Mo_z"
      },
      "source": [
        "6. (11б). Створіть 2 дочірніх класи від Фігури: Трикутник та Коло, які мають атрибути, необхідні для розрахунку площин. Визначте метод get_area в кожному з них так, щоби вони розраховували площу в залежності від формули для кожного типу фігури. Створіть обʼєкт класу Трикутник та обʼєкт класу Коло. Виконайте операцію суми за допомогою оператора + між ними."
      ]
    },
    {
      "cell_type": "code",
      "execution_count": 5,
      "metadata": {
        "id": "H3GVNr69Muf3"
      },
      "outputs": [
        {
          "name": "stdout",
          "output_type": "stream",
          "text": [
            "78.53981633974483\n"
          ]
        }
      ],
      "source": [
        "import math\n",
        "\n",
        "class Triangle(Figure):\n",
        "    def get_area(self):\n",
        "        p = (self.a+self.b+self.c)/2\n",
        "        return math.sqrt(p*(p-self.a)*(p-self.b)*(p-self.c))\n",
        "    def __init__(self, a, b, c):\n",
        "        self.a = a\n",
        "        self.b = b\n",
        "        self.c = c\n",
        "    \n",
        "class Circle(Figure):\n",
        "    def get_area(self):\n",
        "        return math.pi * self.radius ** 2\n",
        "    def __init__(self, radius):\n",
        "        self.radius = radius\n",
        "\n",
        "triangle = Triangle(2, 3, 5)\n",
        "circle = Circle(5)\n",
        "print(triangle.__add__(circle))"
      ]
    },
    {
      "attachments": {},
      "cell_type": "markdown",
      "metadata": {
        "id": "HCvR206YMvLK"
      },
      "source": [
        "7. (3б). Продемонструйте різницю між isinstance та issubclass."
      ]
    },
    {
      "cell_type": "code",
      "execution_count": 9,
      "metadata": {
        "id": "L_V1bBvDM0GN"
      },
      "outputs": [
        {
          "name": "stdout",
          "output_type": "stream",
          "text": [
            "True\n",
            "True\n",
            "True\n",
            "False\n",
            "False\n"
          ]
        }
      ],
      "source": [
        "print(isinstance(circle, Circle))\n",
        "print(isinstance(circle, Figure))\n",
        "\n",
        "print(issubclass(Circle, Figure))\n",
        "print(issubclass(Circle, Triangle))\n",
        "print(issubclass(Figure, Circle))\n",
        "\n",
        "#issubclass(a, b) перевіряє чи a є підкласом b\n",
        "#isinstance(obj, a) перевіряж чи obj є екземпляром класу a"
      ]
    },
    {
      "attachments": {},
      "cell_type": "markdown",
      "metadata": {
        "id": "jjsaBZ-iM0Qq"
      },
      "source": [
        "8. (13б). Створіть клас BankAccount з приватними атрибутами balance та account_number. Реалізуйте методи поповнення та зняття коштів, забезпечивши належну інкапсуляцію. Підказка: використовуйте декоратори property та setter."
      ]
    },
    {
      "cell_type": "code",
      "execution_count": 18,
      "metadata": {
        "id": "xCvZ7lh8M7YA"
      },
      "outputs": [],
      "source": [
        "class BankAccount:\n",
        "    def __init__(self, balance, account_number):\n",
        "        self.__balance = balance\n",
        "        self.__account_number = account_number\n",
        "    \n",
        "    @property\n",
        "    def balance(self):\n",
        "        return self.__balance\n",
        "    \n",
        "    @property\n",
        "    def account_number(self):\n",
        "        return self.__account_number\n",
        "    \n",
        "    @balance.setter\n",
        "    def balance(self, new_balance):\n",
        "        if new_balance < 0:\n",
        "            print(\"The balance cannot be negative\")\n",
        "        else:\n",
        "            self.__balance = new_balance\n",
        "    \n",
        "    def deposit(self, amount):\n",
        "        if amount < 0:\n",
        "            print(\"Deposit amount cannot be negative\")\n",
        "        else:\n",
        "            self.__balance += amount\n",
        "            print(f\"You deposited {amount} into account {self.account_number()}. Now your balance is equal {self.balance()}\")\n",
        "\n",
        "    def withdraw(self, amount):\n",
        "        if amount > self.balance():\n",
        "            print(\"Your balance is less than amount you want to withdraw\")\n",
        "        else:\n",
        "            self.__balance -= amount\n",
        "            print(f\"You withdrew {amount} from the account {self.account_number()}. Now your balance is equal {self.balance()}\")"
      ]
    },
    {
      "attachments": {},
      "cell_type": "markdown",
      "metadata": {
        "id": "tIzL2SJTM8ft"
      },
      "source": [
        "9. (11б). Створіть клас Library, який містить список об'єктів типу Book. Реалізуйте методи для додавання книги, видалення книги та відображення списку книг."
      ]
    },
    {
      "cell_type": "code",
      "execution_count": 9,
      "metadata": {
        "id": "HWxfJKLtNAUZ"
      },
      "outputs": [],
      "source": [
        "class Book:\n",
        "    def __init__(self, name, amount):\n",
        "        self.name = name\n",
        "        self.amount = amount\n",
        "    def print(self):\n",
        "        print(f\"{self.name}:{self.amount}\")\n",
        "\n",
        "class Library:\n",
        "    def __init__(self, book:Book):\n",
        "        self.book_list = [book]\n",
        "    def add(self, book:Book):\n",
        "        self.book_list.append(book)\n",
        "    def delete(self, index):\n",
        "        if 0 <= index < len(self.book_list):\n",
        "            self.book_list.remove(index)\n",
        "    def print(self):\n",
        "        print(\"[\", end=\"\")\n",
        "        for i in self.book_list:\n",
        "            i.print()\n",
        "            print(\" \")\n",
        "        print(\"]\")"
      ]
    },
    {
      "attachments": {},
      "cell_type": "markdown",
      "metadata": {
        "id": "lmV8pAwwNIqu"
      },
      "source": [
        "10. (13б). Створіть клас Person з атрибутами name та age. Створіть ще один клас Employee з такими атрибутами, як department та salary. Створіть клас Manager, який успадковує обидва класи Person та Employee. Продемонструйте використання множинної спадковості, створивши обʼєкт класу Manager та отримавши mro для цього класу."
      ]
    },
    {
      "cell_type": "code",
      "execution_count": 16,
      "metadata": {
        "id": "R49grKlWNPeN"
      },
      "outputs": [
        {
          "name": "stdout",
          "output_type": "stream",
          "text": [
            "(<class '__main__.Manager'>, <class '__main__.Person'>, <class '__main__.Employee'>, <class 'object'>)\n"
          ]
        }
      ],
      "source": [
        "class Person:\n",
        "    def __init__(self, name, age):\n",
        "        self.name = name\n",
        "        self.age = age\n",
        "\n",
        "class Employee:\n",
        "    def __init__(self, department, salary):\n",
        "        self.department = department\n",
        "        self.salary = salary\n",
        "\n",
        "class Manager(Person, Employee):\n",
        "    def __init__(self, name, age, department, salary):\n",
        "        Employee.__init__(self, department, salary)\n",
        "        Person.__init__(self, name, age)\n",
        "\n",
        "manager = Manager(\"Davyd\", 20, \"Cybersecurity\", 100000)\n",
        "print(Manager.__mro__)"
      ]
    },
    {
      "attachments": {},
      "cell_type": "markdown",
      "metadata": {
        "id": "dIJyUiNBFG8G"
      },
      "source": [
        "# II. Iterator"
      ]
    },
    {
      "attachments": {},
      "cell_type": "markdown",
      "metadata": {
        "id": "13vsm0NyKIzL"
      },
      "source": [
        "11. (4б). Визначте рядок(str) з 4ма різними за значенням символами. Створіть ітератор на основі цього рядка. Викличте 5 разів функцію next на ітераторі, 4ри перших з них огорніть у ф-цію print()."
      ]
    },
    {
      "cell_type": "code",
      "execution_count": 5,
      "metadata": {
        "id": "81ntabAkKuz-"
      },
      "outputs": [
        {
          "name": "stdout",
          "output_type": "stream",
          "text": [
            "a\n",
            "b\n",
            "c\n",
            "d\n"
          ]
        },
        {
          "ename": "StopIteration",
          "evalue": "",
          "output_type": "error",
          "traceback": [
            "\u001b[1;31m---------------------------------------------------------------------------\u001b[0m",
            "\u001b[1;31mStopIteration\u001b[0m                             Traceback (most recent call last)",
            "Cell \u001b[1;32mIn[5], line 4\u001b[0m\n\u001b[0;32m      2\u001b[0m iterator \u001b[39m=\u001b[39m \u001b[39miter\u001b[39m(string)\n\u001b[0;32m      3\u001b[0m \u001b[39mfor\u001b[39;00m i \u001b[39min\u001b[39;00m \u001b[39mrange\u001b[39m(\u001b[39m5\u001b[39m):\n\u001b[1;32m----> 4\u001b[0m     next_element \u001b[39m=\u001b[39m \u001b[39mnext\u001b[39;49m(iterator)\n\u001b[0;32m      5\u001b[0m     \u001b[39mif\u001b[39;00m i \u001b[39m<\u001b[39m \u001b[39m4\u001b[39m:\n\u001b[0;32m      6\u001b[0m         \u001b[39mprint\u001b[39m(next_element)\n",
            "\u001b[1;31mStopIteration\u001b[0m: "
          ]
        }
      ],
      "source": [
        "string = \"abcd\"\n",
        "iterator = iter(string)\n",
        "for i in range(5):\n",
        "    next_element = next(iterator)\n",
        "    if i < 4:\n",
        "        print(next_element)\n"
      ]
    },
    {
      "attachments": {},
      "cell_type": "markdown",
      "metadata": {
        "id": "aekWHGXOLRsO"
      },
      "source": [
        "А що якщо викликати цю ж функцію на рядку?"
      ]
    },
    {
      "cell_type": "code",
      "execution_count": 6,
      "metadata": {
        "id": "mxATGsErLV1i"
      },
      "outputs": [
        {
          "ename": "TypeError",
          "evalue": "'str' object is not an iterator",
          "output_type": "error",
          "traceback": [
            "\u001b[1;31m---------------------------------------------------------------------------\u001b[0m",
            "\u001b[1;31mTypeError\u001b[0m                                 Traceback (most recent call last)",
            "Cell \u001b[1;32mIn[6], line 1\u001b[0m\n\u001b[1;32m----> 1\u001b[0m next_str \u001b[39m=\u001b[39m \u001b[39mnext\u001b[39;49m(string)\n",
            "\u001b[1;31mTypeError\u001b[0m: 'str' object is not an iterator"
          ]
        }
      ],
      "source": [
        "next_str = next(string)"
      ]
    },
    {
      "attachments": {},
      "cell_type": "markdown",
      "metadata": {
        "id": "XwtMEopwJ4pH"
      },
      "source": [
        " 12. (5б). Опишіть своїми словами в одному реченні, як ви розумієте різницю між ітерабельними обʼєктами та ітераторами (можна на прикладі)."
      ]
    },
    {
      "attachments": {},
      "cell_type": "markdown",
      "metadata": {
        "id": "-sHrODc3KFn8"
      },
      "source": [
        "Ітерабельні об'єкти містять послідовність елементів, тобто їх можна передбрати ітератором. Через iter() можна дістати їхні ітератори.\n",
        "Ітератор - спецоб'єкт, що зберігає поточний стан ітерації по ітерабельному об'єкту. Через next() можна отримати наступний елемент послідовности. Після завершення ітерації його використати повторно не можна"
      ]
    },
    {
      "attachments": {},
      "cell_type": "markdown",
      "metadata": {
        "id": "E9qJWmNbK8Gl"
      },
      "source": [
        "13. (11б). Створіть клас, що має визначений Iterator Protocol та при кожному виклику next повертає літери англійської абетки, поки вони не вичерпаються."
      ]
    },
    {
      "cell_type": "code",
      "execution_count": 7,
      "metadata": {
        "id": "cqx-g_RsLo6I"
      },
      "outputs": [
        {
          "name": "stdout",
          "output_type": "stream",
          "text": [
            "a\n",
            "b\n",
            "c\n",
            "d\n",
            "e\n",
            "f\n",
            "g\n",
            "h\n",
            "i\n",
            "j\n",
            "k\n",
            "l\n",
            "m\n",
            "n\n",
            "o\n",
            "p\n",
            "q\n",
            "r\n",
            "s\n",
            "t\n",
            "u\n",
            "v\n",
            "w\n",
            "x\n",
            "y\n",
            "z\n"
          ]
        }
      ],
      "source": [
        "class Protocol:\n",
        "    def __init__(self):\n",
        "        self.current_letter = ord('a')\n",
        "\n",
        "    def __iter__(self):\n",
        "        return self\n",
        "    \n",
        "    def __next__(self):\n",
        "        if self.current_letter <= ord('z'):\n",
        "            letter = chr(self.current_letter)\n",
        "            self.current_letter += 1\n",
        "            return letter\n",
        "        else:\n",
        "            raise StopIteration\n",
        "        \n",
        "english_alphabet_iterator = Protocol()\n",
        "for l in english_alphabet_iterator:\n",
        "    print(l)"
      ]
    },
    {
      "attachments": {},
      "cell_type": "markdown",
      "metadata": {
        "id": "Z3E3S_s1Fv7-"
      },
      "source": [
        "# Вітаю! Ви велика(ий) молодець, що впоралась(вся). Похваліть себе та побалуйте чимось приємним. Я Вами пишаюся."
      ]
    }
  ],
  "metadata": {
    "colab": {
      "provenance": []
    },
    "kernelspec": {
      "display_name": "Python 3",
      "name": "python3"
    },
    "language_info": {
      "codemirror_mode": {
        "name": "ipython",
        "version": 3
      },
      "file_extension": ".py",
      "mimetype": "text/x-python",
      "name": "python",
      "nbconvert_exporter": "python",
      "pygments_lexer": "ipython3",
      "version": "3.10.5"
    }
  },
  "nbformat": 4,
  "nbformat_minor": 0
}
